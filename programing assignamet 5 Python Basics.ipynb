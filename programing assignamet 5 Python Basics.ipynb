{
 "cells": [
  {
   "cell_type": "markdown",
   "metadata": {},
   "source": [
    "# 1. Write a Python Program to Find LCM?"
   ]
  },
  {
   "cell_type": "code",
   "execution_count": 56,
   "metadata": {},
   "outputs": [
    {
     "name": "stdout",
     "output_type": "stream",
     "text": [
      "The LCM of [26, 36, 46] is 10764.0\n"
     ]
    }
   ],
   "source": [
    "# Function to find the HCF of two numbers\n",
    "def find_hcf(x,y):\n",
    "    while y != 0 :\n",
    "        x , y = y ,x % y\n",
    "\n",
    "    return x\n",
    "# Function to find the HCF of two numbers\n",
    "def find_lcm(*args):\n",
    "    lcm = args[0]\n",
    "    \n",
    "    for num in args[1:]:\n",
    "        lcm = (num * lcm)/find_hcf(num,lcm)\n",
    "    return lcm\n",
    "\n",
    "# Get the two numbers from the user\n",
    "number = list(map(int,input(\"Enter the numbers\").split(\",\")))\n",
    "\n",
    "# Find and display the LCM\n",
    "hcf = find_lcm(*number)\n",
    "\n",
    "print(f\"The LCM of {number} is {hcf}\")"
   ]
  },
  {
   "cell_type": "markdown",
   "metadata": {},
   "source": [
    "# 2. Write a Python Program to Find HCF?"
   ]
  },
  {
   "cell_type": "code",
   "execution_count": 51,
   "metadata": {},
   "outputs": [
    {
     "name": "stdout",
     "output_type": "stream",
     "text": [
      "The HCF of [36, 20, 34, 66] is 2\n"
     ]
    }
   ],
   "source": [
    "# Function to find the HCF of numbers\n",
    "def find_hcf(*args):\n",
    "    hcf = args[0]\n",
    "    \n",
    "    for num in args[1:]:\n",
    "        while num != 0 :\n",
    "            hcf , num = num ,hcf % num\n",
    "    return hcf\n",
    "\n",
    "\n",
    "# Get the two numbers from the user\n",
    "number = list(map(int,input(\"Enter the numbers\").split(\",\")))\n",
    "\n",
    "# Find and display the HCF\n",
    "hcf = find_hcf(*number)\n",
    "\n",
    "print(f\"The HCF of {number} is {hcf}\")\n"
   ]
  },
  {
   "cell_type": "markdown",
   "metadata": {},
   "source": [
    "# 3. Write a Python Program to Convert Decimal to Binary, Octal and Hexadecimal?\n"
   ]
  },
  {
   "cell_type": "code",
   "execution_count": 6,
   "metadata": {},
   "outputs": [
    {
     "name": "stdout",
     "output_type": "stream",
     "text": [
      "Binary representation: 0b10100011101\n",
      "Octal representation: 0o2435\n",
      "Hexadecimal representation: 0x51d\n"
     ]
    }
   ],
   "source": [
    "# Get the decimal number from the user\n",
    "decimal_number = int(input(\"Enter a decimal number: \"))\n",
    "\n",
    "# Convert to binary, octal, and hexadecimal\n",
    "binary_representation = bin(decimal_number)\n",
    "octal_representation = oct(decimal_number)\n",
    "hexadecimal_representation = hex(decimal_number)\n",
    "\n",
    "# Display the results\n",
    "print(f\"Binary representation: {binary_representation}\")\n",
    "print(f\"Octal representation: {octal_representation}\")\n",
    "print(f\"Hexadecimal representation: {hexadecimal_representation}\")\n"
   ]
  },
  {
   "cell_type": "markdown",
   "metadata": {},
   "source": [
    "# 4. Write a Python Program To Find ASCII value of a character?"
   ]
  },
  {
   "cell_type": "code",
   "execution_count": 13,
   "metadata": {},
   "outputs": [
    {
     "name": "stdout",
     "output_type": "stream",
     "text": [
      "The ASCII value of '@' is 64\n"
     ]
    }
   ],
   "source": [
    "# Get a character from the user\n",
    "character = input(\"Enter a character: \")\n",
    "\n",
    "# Check if the input is a single character\n",
    "if len(character) == 1:\n",
    "    # get the ASCII value of the character\n",
    "    ascii_value = ord(character)\n",
    "    print(f\"The ASCII value of '{character}' is {ascii_value}\")\n",
    "else:\n",
    "    print(\"Please enter a single character.\")\n"
   ]
  },
  {
   "cell_type": "markdown",
   "metadata": {},
   "source": [
    "# 5. Write a Python Program to Make a Simple Calculator with 4 basic mathematical operations?"
   ]
  },
  {
   "cell_type": "code",
   "execution_count": 18,
   "metadata": {},
   "outputs": [
    {
     "name": "stdout",
     "output_type": "stream",
     "text": [
      "\n",
      "select the operation:\n",
      "1 for Addition\n",
      "2 for Subtraaction\n",
      "3 for multiplication\n",
      "4 for Division\n",
      "\n",
      "Result of Division: 0.6\n"
     ]
    }
   ],
   "source": [
    "# function to Perform Addition\n",
    "def add(num1,num2):\n",
    "    return num1 + num2\n",
    "\n",
    "# function to Perform subtraction\n",
    "def subtract(num1,num2):\n",
    "    return num1 - num2\n",
    "\n",
    "# function to Perform multiplication\n",
    "def multiply(num1,num2):\n",
    "    return num1 * num2\n",
    "\n",
    "# function to Perform division\n",
    "def divide(dividend,divisor):\n",
    "    return dividend / divisor\n",
    "\n",
    "# Display a menu to the user\n",
    "print(\"\"\"\n",
    "select the operation:\n",
    "1 for Addition\n",
    "2 for Subtraaction\n",
    "3 for multiplication\n",
    "4 for Division\n",
    "\"\"\")\n",
    "\n",
    "# Get user input for operation choice\n",
    "operation = input(\"please select the operation : \")\n",
    "\n",
    "# checks user Input is Valid ?\n",
    "while True :\n",
    "    try:\n",
    "        if int(operation) not in [1,2,3,4]:    \n",
    "            print( \"selected invalid operation\")\n",
    "            operation = int(input(\"Please enter Valid Operation :\"))\n",
    "        else : \n",
    "            operation = int(operation) \n",
    "            break  \n",
    "    except ValueError :\n",
    "        print( \"selected invalid operation\")\n",
    "        operation = (input(\"Please enter Valid Operation :\"))\n",
    "\n",
    "# Get user input for two numbers\n",
    "num1 = int(input(\"enter first number : \"))\n",
    "num2 = int(input(\"enter second number : \"))\n",
    "if operation == 1 :\n",
    "    operation = \"addition\"\n",
    "    result = add(num1, num2)\n",
    "\n",
    "elif operation == 2 :\n",
    "    operation = \"subtraction\"\n",
    "    result = subtract(num1, num2)\n",
    "\n",
    "elif operation == 3 :\n",
    "    operation = \"multiplication\"\n",
    "    result = multiply(num1, num2)\n",
    "\n",
    "elif operation == 4 :\n",
    "    operation = \"Division\"\n",
    "    result = divide(num1, num2)\n",
    "\n",
    "print(f\"Result of {operation}: {result}\")"
   ]
  }
 ],
 "metadata": {
  "kernelspec": {
   "display_name": "Python 3.8.10 64-bit",
   "language": "python",
   "name": "python3"
  },
  "language_info": {
   "codemirror_mode": {
    "name": "ipython",
    "version": 3
   },
   "file_extension": ".py",
   "mimetype": "text/x-python",
   "name": "python",
   "nbconvert_exporter": "python",
   "pygments_lexer": "ipython3",
   "version": "3.8.10"
  },
  "orig_nbformat": 4,
  "vscode": {
   "interpreter": {
    "hash": "e7370f93d1d0cde622a1f8e1c04877d8463912d04d973331ad4851f04de6915a"
   }
  }
 },
 "nbformat": 4,
 "nbformat_minor": 2
}
