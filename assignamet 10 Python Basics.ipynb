{
 "cells": [
  {
   "attachments": {},
   "cell_type": "markdown",
   "metadata": {},
   "source": [
    "# 1. How do you distinguish between shutil.copy() and shutil.copytree()?\n"
   ]
  },
  {
   "attachments": {},
   "cell_type": "markdown",
   "metadata": {},
   "source": [
    "### solution:\n",
    "### shutil.copy() method will copy a single file while shutil.copytree() will copy entire directory and its contents."
   ]
  },
  {
   "attachments": {},
   "cell_type": "markdown",
   "metadata": {},
   "source": [
    "# 2. What function is used to rename files??\n"
   ]
  },
  {
   "attachments": {},
   "cell_type": "markdown",
   "metadata": {},
   "source": [
    "### solution:\n",
    "### os.rename()"
   ]
  },
  {
   "attachments": {},
   "cell_type": "markdown",
   "metadata": {},
   "source": [
    "# 3. What is the difference between the delete functions in the send2trash and shutil modules?\n"
   ]
  },
  {
   "attachments": {},
   "cell_type": "markdown",
   "metadata": {},
   "source": [
    "### solution:\n",
    "### shutil.rmtree() function permanently deletes files and folders while send2trash will send folders and files to computer's recycle bin instead of permanently deleting them"
   ]
  },
  {
   "attachments": {},
   "cell_type": "markdown",
   "metadata": {},
   "source": [
    "# 4.ZipFile objects have a close() method just like File objects’ close() method. What ZipFile method is equivalent to File objects’ open() method?\n",
    "\n"
   ]
  },
  {
   "attachments": {},
   "cell_type": "markdown",
   "metadata": {},
   "source": [
    "### solution:\n",
    "###"
   ]
  },
  {
   "cell_type": "code",
   "execution_count": 1,
   "metadata": {},
   "outputs": [
    {
     "data": {
      "text/plain": [
       "<zipfile.ZipFile filename='samplefile.zip' mode='w'>"
      ]
     },
     "execution_count": 1,
     "metadata": {},
     "output_type": "execute_result"
    }
   ],
   "source": [
    "from zipfile import ZipFile\n",
    "ZipFile(\"samplefile.zip\", 'w')"
   ]
  },
  {
   "attachments": {},
   "cell_type": "markdown",
   "metadata": {},
   "source": [
    "# 5. Create a programme that searches a folder tree for files with a certain file extension (such as .pdf or .jpg). Copy these files from whatever location they are in to a new folder."
   ]
  },
  {
   "attachments": {},
   "cell_type": "markdown",
   "metadata": {},
   "source": [
    "### solution:\n",
    "###"
   ]
  },
  {
   "cell_type": "code",
   "execution_count": 2,
   "metadata": {},
   "outputs": [
    {
     "name": "stdout",
     "output_type": "stream",
     "text": [
      "Looking in i:\\assignmets\\Python Basics\\randomFolder for files with extensions of .php, .py\n"
     ]
    }
   ],
   "source": [
    "import os, shutil\n",
    "\n",
    "def selectiveCopy(folder, extensions, destFolder):\n",
    "    folder = os.path.abspath(folder)\n",
    "    destFolder = os.path.abspath(destFolder)\n",
    "    print('Looking in', folder, 'for files with extensions of', ', '.join(extensions))\n",
    "    for foldername, subfolders, filenames in os.walk(folder):\n",
    "        for filename in filenames:\n",
    "            name, extension = os.path.splitext(filename)\n",
    "            if extension in extensions:\n",
    "                fileAbsPath = foldername + os.path.sep + filename\n",
    "                print('Coping', fileAbsPath, 'to', destFolder)\n",
    "                shutil.copy(fileAbsPath, destFolder)\n",
    "\n",
    "extensions = ['.php', '.py']\n",
    "folder = 'randomFolder'\n",
    "destFolder = 'selectiveFolder'\n",
    "selectiveCopy(folder, extensions, destFolder)"
   ]
  },
  {
   "cell_type": "code",
   "execution_count": null,
   "metadata": {},
   "outputs": [],
   "source": []
  }
 ],
 "metadata": {
  "kernelspec": {
   "display_name": "Python 3",
   "language": "python",
   "name": "python3"
  },
  "language_info": {
   "codemirror_mode": {
    "name": "ipython",
    "version": 3
   },
   "file_extension": ".py",
   "mimetype": "text/x-python",
   "name": "python",
   "nbconvert_exporter": "python",
   "pygments_lexer": "ipython3",
   "version": "3.9.13"
  },
  "orig_nbformat": 4,
  "vscode": {
   "interpreter": {
    "hash": "4cff3abf1678755e0069fd79299a535fe1940bcd71a6b01d9f4386710b2b163f"
   }
  }
 },
 "nbformat": 4,
 "nbformat_minor": 2
}
