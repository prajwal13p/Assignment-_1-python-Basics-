{
 "cells": [
  {
   "cell_type": "markdown",
   "metadata": {},
   "source": [
    "# Write a Python Program to Find the Factorial of a Number?"
   ]
  },
  {
   "cell_type": "code",
   "execution_count": 9,
   "metadata": {},
   "outputs": [
    {
     "name": "stdout",
     "output_type": "stream",
     "text": [
      "Factorial of a Number 6 is 720\n"
     ]
    }
   ],
   "source": [
    "# Takes the input from the user \n",
    "number = input(\"Enter the Number (integer) : \")\n",
    "\n",
    "# Verifies the Input in Integer or not\n",
    "while True : \n",
    "    try:\n",
    "        # Attempt to convert input into integer\n",
    "        number = int(number)\n",
    "        break\n",
    "    except ValueError :\n",
    "        # if Conversion to int Fails then asks user to enter input\n",
    "        number = input(\"The number is not an integer, Please enter Integer :\")\n",
    "\n",
    "# calculation of Factorial of a Number\n",
    "Factorial = 1\n",
    "for i in range(number):\n",
    "    Factorial = Factorial * (number-i)\n",
    "\n",
    "print(f\"\"\"Factorial of a Number {number} is {Factorial}\"\"\")\n",
    "\n",
    "\n"
   ]
  },
  {
   "cell_type": "markdown",
   "metadata": {},
   "source": [
    "# Write a Python Program to Display the multiplication Table?"
   ]
  },
  {
   "cell_type": "code",
   "execution_count": 10,
   "metadata": {},
   "outputs": [
    {
     "name": "stdout",
     "output_type": "stream",
     "text": [
      "Multiplication Table for 5:\n",
      "5 x 1 = 5\n",
      "5 x 2 = 10\n",
      "5 x 3 = 15\n",
      "5 x 4 = 20\n",
      "5 x 5 = 25\n",
      "5 x 6 = 30\n",
      "5 x 7 = 35\n",
      "5 x 8 = 40\n",
      "5 x 9 = 45\n",
      "5 x 10 = 50\n"
     ]
    }
   ],
   "source": [
    "# Takes the input number to display multiplication table from the user\n",
    "number = input(\"Enter a number (integer) : \")\n",
    "\n",
    "# Verifies the Input in Integer or not\n",
    "while True : \n",
    "    try:\n",
    "        # Attempt to convert input into integer\n",
    "        number = int(number)\n",
    "        break\n",
    "    except ValueError :\n",
    "        # if Conversion to int Fails then asks user to enter input\n",
    "        number = input(\"The number is not an integer, Please enter Integer :\")\n",
    "\n",
    "\n",
    "\n",
    "# Display the multiplication table for the entered number\n",
    "print(f\"Multiplication Table for {number}:\")\n",
    "for i in range(1,11):  # Display the table for numbers 1 to 10\n",
    "    result = number * (i)\n",
    "    print(f\"{number} x {i} = {result}\")"
   ]
  },
  {
   "cell_type": "markdown",
   "metadata": {},
   "source": [
    "# Write a Python Program to Print the Fibonacci sequence?"
   ]
  },
  {
   "cell_type": "code",
   "execution_count": 11,
   "metadata": {},
   "outputs": [
    {
     "name": "stdout",
     "output_type": "stream",
     "text": [
      "Fibonacci Sequence: [0, 1, 1, 2, 3, 5, 8, 13, 21, 34]\n"
     ]
    }
   ],
   "source": [
    "# Function to generate and print the Fibonacci sequence\n",
    "def fibonacci_sequence(n):\n",
    "    fib_sequence = [0, 1]  # Initialize the sequence with the first two Fibonacci numbers\n",
    "\n",
    "    while len(fib_sequence) < n:\n",
    "        next_number = fib_sequence[-1] + fib_sequence[-2]\n",
    "        fib_sequence.append(next_number)\n",
    "\n",
    "    return fib_sequence\n",
    "\n",
    "# Takes the input to print number of fibonacci sequence from the user\n",
    "num_terms = int(input(\"Enter the number of Fibonacci terms to generate: \"))\n",
    "\n",
    "# Verifies the Input in Integer or not\n",
    "while True : \n",
    "    try:\n",
    "        # Attempt to convert input into integer\n",
    "        num_terms = int(num_terms)\n",
    "        if num_terms <= 0:\n",
    "            num_terms = input(\"Please enter a positive number of terms.\" )\n",
    "        break\n",
    "    except ValueError :\n",
    "        # if Conversion to int Fails then asks user to enter input\n",
    "        num_terms = input(\"The number is not an integer, Please enter Integer :\")\n",
    "        \n",
    "fib_sequence = fibonacci_sequence(num_terms)\n",
    "print(f\"Fibonacci Sequence: {fib_sequence}\")"
   ]
  },
  {
   "cell_type": "markdown",
   "metadata": {},
   "source": [
    "# Write a Python Program to Check Armstrong Number?"
   ]
  },
  {
   "cell_type": "code",
   "execution_count": 12,
   "metadata": {},
   "outputs": [
    {
     "name": "stdout",
     "output_type": "stream",
     "text": [
      "153 is an Armstrong number.\n"
     ]
    }
   ],
   "source": [
    "# Function to check if a number is an Armstrong number\n",
    "def is_armstrong_number(num):\n",
    "    # Convert the number to a string to count its digits\n",
    "    num_str = str(num)\n",
    "    num_digits = len(num_str)\n",
    "    \n",
    "    # Calculate the sum of digits raised to the power of num_digits\n",
    "    sum_of_powers = 0\n",
    "    for i in num_str:\n",
    "        sum_of_powers = sum_of_powers + int(i)**num_digits\n",
    "\n",
    "    \n",
    "    # Check if the sum is equal to the original number\n",
    "    return num == sum_of_powers\n",
    "\n",
    "# Get the number from the user\n",
    "number = input(\"Enter a number (integer) : \")\n",
    "\n",
    "# Verifies the Input in Integer or not\n",
    "while True : \n",
    "    try:\n",
    "        # Attempt to convert input into integer\n",
    "        number = int(number)\n",
    "        break\n",
    "    except ValueError :\n",
    "        # if Conversion to int Fails then asks user to enter input\n",
    "        number = input(\"The number is not an integer, Please enter Integer :\")\n",
    "        \n",
    "# Check if it's an Armstrong number and print the result\n",
    "if is_armstrong_number(number):\n",
    "    print(f\"{number} is an Armstrong number.\")\n",
    "else:\n",
    "    print(f\"{number} is not an Armstrong number.\")\n"
   ]
  },
  {
   "cell_type": "markdown",
   "metadata": {},
   "source": [
    "# Write a Python Program to Find Armstrong Number in an Interval?"
   ]
  },
  {
   "cell_type": "code",
   "execution_count": 7,
   "metadata": {},
   "outputs": [
    {
     "name": "stdout",
     "output_type": "stream",
     "text": [
      "Armstrong numbers in the interval (1,1000) are :\n",
      "\n",
      "[1, 2, 3, 4, 5, 6, 7, 8, 9, 153, 370, 371, 407]\n"
     ]
    }
   ],
   "source": [
    "# Function to check if a number is an Armstrong number\n",
    "def is_armstrong_number(num):\n",
    "    # Convert the number to a string to count its digits\n",
    "    num_str = str(num)\n",
    "    num_digits = len(num_str)\n",
    "    \n",
    "    # Calculate the sum of digits raised to the power of num_digits\n",
    "    sum_of_powers = 0\n",
    "    for i in num_str:\n",
    "        sum_of_powers = sum_of_powers + int(i)**num_digits\n",
    "\n",
    "    \n",
    "    # Check if the sum is equal to the original number\n",
    "    return num == sum_of_powers\n",
    "\n",
    "# Get the number from the user\n",
    "start_num = input(\"Enter a starting number (integer) : \")\n",
    "end_num = input(\"Enter a ending number (integer) : \")\n",
    "\n",
    "# Verifies the Input in Integer or not\n",
    "while True : \n",
    "    try:\n",
    "        # Attempt to convert input into integer\n",
    "        start_num = int(start_num)\n",
    "        break\n",
    "    except ValueError :\n",
    "        # if Conversion to int Fails then asks user to enter input\n",
    "        start_num = input(\"The starting number is not an integer, Please enter Integer : \")\n",
    "while True : \n",
    "    try:\n",
    "        # Attempt to convert input into integer\n",
    "        end_num = int(end_num)\n",
    "        break\n",
    "    except ValueError :\n",
    "        # if Conversion to int Fails then asks user to enter input\n",
    "        end_num = input(\"The ending number is not an integer, Please enter Integer : \")\n",
    "        \n",
    "Armstrong_numbers = []\n",
    "for i in range(start_num, end_num):\n",
    "    if is_armstrong_number(i):\n",
    "        Armstrong_numbers.append(i)\n",
    "\n",
    "print(f\"\"\"Armstrong numbers in the interval ({start_num},{end_num}) are :\n",
    "\n",
    "{Armstrong_numbers}\"\"\")\n"
   ]
  },
  {
   "cell_type": "markdown",
   "metadata": {},
   "source": [
    "# Write a Python Program to Find the Sum of Natural Numbers?"
   ]
  },
  {
   "cell_type": "code",
   "execution_count": 8,
   "metadata": {},
   "outputs": [
    {
     "name": "stdout",
     "output_type": "stream",
     "text": [
      "The sum of natural numbers from 1 to 20 is: 210\n"
     ]
    }
   ],
   "source": [
    "# get the Natural Number to sum the natural numbers\n",
    "n = input(\"enter the Natural Number : \")\n",
    "\n",
    "# verifying the user input is Natural Number or not\n",
    "while True:\n",
    "    try:\n",
    "        n = int(n)\n",
    "        if  n <= 0 :\n",
    "            n = input(\"Please Enter Natural Number :\")\n",
    "        else:\n",
    "            break\n",
    "        \n",
    "    except ValueError :\n",
    "        n = input(\"Please Enter Natural Number : \")\n",
    "        \n",
    "# Calculate the sum of natural numbers from 1 to 'n'\n",
    "sum_of_numbers = 0\n",
    "for i in range(1,n+1):\n",
    "    sum_of_numbers = sum_of_numbers + i\n",
    "\n",
    "print(f\"\"\"The sum of natural numbers from 1 to {n} is: {sum_of_numbers}\"\"\")"
   ]
  },
  {
   "cell_type": "code",
   "execution_count": null,
   "metadata": {},
   "outputs": [],
   "source": []
  }
 ],
 "metadata": {
  "kernelspec": {
   "display_name": "Python 3.8.10 64-bit",
   "language": "python",
   "name": "python3"
  },
  "language_info": {
   "codemirror_mode": {
    "name": "ipython",
    "version": 3
   },
   "file_extension": ".py",
   "mimetype": "text/x-python",
   "name": "python",
   "nbconvert_exporter": "python",
   "pygments_lexer": "ipython3",
   "version": "3.8.10"
  },
  "orig_nbformat": 4,
  "vscode": {
   "interpreter": {
    "hash": "e7370f93d1d0cde622a1f8e1c04877d8463912d04d973331ad4851f04de6915a"
   }
  }
 },
 "nbformat": 4,
 "nbformat_minor": 2
}
