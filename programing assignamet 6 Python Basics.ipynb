{
 "cells": [
  {
   "cell_type": "markdown",
   "metadata": {},
   "source": [
    "# Write a Python Program to Display Fibonacci Sequence Using Recursion?\n"
   ]
  },
  {
   "cell_type": "code",
   "execution_count": 48,
   "metadata": {},
   "outputs": [
    {
     "name": "stdout",
     "output_type": "stream",
     "text": [
      "Fibonacci Sequence: [0, 1, 1, 2, 3, 5, 8, 13, 21, 34, 55, 89, 144, 233, 377]\n"
     ]
    }
   ],
   "source": [
    "# defining the fibonacci function\n",
    "def fibonacci(n):\n",
    "    if n<=1 :\n",
    "        return n\n",
    "    else :\n",
    "        return (fibonacci(n-1)+fibonacci(n-2))\n",
    "\n",
    "# Takes the input to print number of fibonacci sequence from the user\n",
    "num_terms = int(input(\"Enter the number of Fibonacci terms to generate: \"))\n",
    "\n",
    "# Verifies the Input in Integer or not\n",
    "while True : \n",
    "    try:\n",
    "        # Attempt to convert input into integer\n",
    "        num_terms = int(num_terms)\n",
    "        if num_terms <= 0:\n",
    "            num_terms = input(\"Please enter a positive number of terms.\" )\n",
    "        break\n",
    "    except ValueError :\n",
    "        # if Conversion to int Fails then asks user to enter input\n",
    "        num_terms = input(\"The number is not  an integer, Please enter Integer :\")\n",
    "\n",
    "fibonacci_sequence = []\n",
    "\n",
    "for i in range(num_terms):\n",
    "    fibonacci_sequence.append(fibonacci(i))\n",
    "\n",
    "print(f\"Fibonacci Sequence: {fibonacci_sequence}\")"
   ]
  },
  {
   "cell_type": "markdown",
   "metadata": {},
   "source": [
    "# Write a Python Program to Find Factorial of Number Using Recursion?"
   ]
  },
  {
   "cell_type": "code",
   "execution_count": 50,
   "metadata": {},
   "outputs": [
    {
     "name": "stdout",
     "output_type": "stream",
     "text": [
      "Factorial of a Number 5 is 120\n"
     ]
    }
   ],
   "source": [
    "# defining the factorial function\n",
    "def factorial(n):\n",
    "    if n<=1 :\n",
    "        return 1\n",
    "    else :\n",
    "        return (n * factorial(n-1))\n",
    "\n",
    "# Takes the input from the user \n",
    "num = int(input(\"Enter the number of Fibonacci terms to generate: \"))\n",
    "\n",
    "# Verifies the Input in Integer or not\n",
    "while True : \n",
    "    try:\n",
    "        # Attempt to convert input into integer\n",
    "        num = int(num)\n",
    "        if num <= 0:\n",
    "            num = input(\"Please enter a positive number of terms.\" )\n",
    "        break\n",
    "    except ValueError :\n",
    "        # if Conversion to int Fails then asks user to enter input\n",
    "        num = input(\"The number is not an integer, Please enter Integer :\")\n",
    "\n",
    "print(f\"\"\"Factorial of a Number {num} is {factorial(num)}\"\"\")"
   ]
  },
  {
   "cell_type": "markdown",
   "metadata": {},
   "source": [
    "# Write a Python Program to calculate your Body Mass Index?\n"
   ]
  },
  {
   "cell_type": "code",
   "execution_count": 82,
   "metadata": {},
   "outputs": [
    {
     "name": "stdout",
     "output_type": "stream",
     "text": [
      "\n",
      "Your Weight : 63.5 Kg\n",
      "Your Height : 1.77 m\n",
      "Your Body mass Index is : 20.27\n"
     ]
    }
   ],
   "source": [
    "# defining the function for Boday Mass index\n",
    "def Body_Mass_Index(weight,height):\n",
    "    return (weight/(height**2))\n",
    "\n",
    "weight,height = input('Enter your Weight in Kg : ') , input(\"Enter your height in Metres :\")\n",
    "\n",
    "# Verifies the Input in float value or not\n",
    "while True : \n",
    "    try:\n",
    "        # Attempt to convert input into float value\n",
    "        weight = float(weight)\n",
    "        if weight <= 0:\n",
    "            weight = input(\"Please enter a positive number for weight.\" )\n",
    "        break\n",
    "    except ValueError :\n",
    "        # if Conversion to float value Fails then asks user to enter input\n",
    "        weight = input(\"The input is not an number, Please enter weight in number :\")\n",
    "\n",
    "while True : \n",
    "    try:\n",
    "        # Attempt to convert input into float value\n",
    "        height = float(height)\n",
    "        if height <= 0:\n",
    "            height = input(\"Please enter a positive number for height.\" )\n",
    "        break\n",
    "    except ValueError :\n",
    "        # if Conversion to float value Fails then asks user to enter input\n",
    "        height = input(\"The input is not an number, Please enter height in number :\")\n",
    "\n",
    "print(f\"\"\"\n",
    "Your Weight : {weight} Kg\n",
    "Your Height : {height} m\n",
    "Your Body mass Index is : {round(Body_Mass_Index(weight,height),2)}\"\"\")"
   ]
  },
  {
   "cell_type": "markdown",
   "metadata": {},
   "source": [
    "# Write a Python Program to calculate the natural logarithm of any number?\n"
   ]
  },
  {
   "cell_type": "code",
   "execution_count": 83,
   "metadata": {},
   "outputs": [
    {
     "name": "stdout",
     "output_type": "stream",
     "text": [
      "The natural logarithm of 4.0 is 1.3862943611198906\n"
     ]
    }
   ],
   "source": [
    "import math\n",
    "\n",
    "# Input a number to calculate the natural logarithm\n",
    "number = float(input(\"Enter a number: \"))\n",
    "\n",
    "# Calculate the natural logarithm\n",
    "natural_log = math.log(number)\n",
    "\n",
    "# Print the result\n",
    "print(f\"The natural logarithm of {number} is {natural_log}\")\n"
   ]
  },
  {
   "cell_type": "markdown",
   "metadata": {},
   "source": [
    "# Write a Python Program for cube sum of first n natural numbers?"
   ]
  },
  {
   "cell_type": "code",
   "execution_count": 101,
   "metadata": {},
   "outputs": [
    {
     "name": "stdout",
     "output_type": "stream",
     "text": [
      "The cube sum of the first 5 natural numbers is: 225\n"
     ]
    }
   ],
   "source": [
    "# defining function for sumation of first n natural numbers\n",
    "def cube_sum_of_natural_numbers(n):\n",
    "    cube_sum = 0\n",
    "\n",
    "    for i in range(1, n + 1):\n",
    "        cube_sum += i ** 3\n",
    "\n",
    "    return cube_sum\n",
    "\n",
    "# taking input from user\n",
    "number = input(\"Enter the Natural Number :\")\n",
    "\n",
    "# verifies the Input in Namtural Number\n",
    "while True:\n",
    "    try:\n",
    "        number = int(number)\n",
    "        if number > 0:\n",
    "            break\n",
    "        else :\n",
    "            number = input(\"This number is not a Natural Number,please enter the natural Number :\")\n",
    "    except ValueError :\n",
    "        number = input(\"This number is not a Natural Number,please enter the natural Number :\")\n",
    "\n",
    "\n",
    "print(f\"The cube sum of the first {number} natural numbers is: {cube_sum_of_natural_numbers(number)}\")\n",
    "\n"
   ]
  }
 ],
 "metadata": {
  "kernelspec": {
   "display_name": "Python 3.8.10 64-bit",
   "language": "python",
   "name": "python3"
  },
  "language_info": {
   "codemirror_mode": {
    "name": "ipython",
    "version": 3
   },
   "file_extension": ".py",
   "mimetype": "text/x-python",
   "name": "python",
   "nbconvert_exporter": "python",
   "pygments_lexer": "ipython3",
   "version": "3.8.10"
  },
  "orig_nbformat": 4,
  "vscode": {
   "interpreter": {
    "hash": "e7370f93d1d0cde622a1f8e1c04877d8463912d04d973331ad4851f04de6915a"
   }
  }
 },
 "nbformat": 4,
 "nbformat_minor": 2
}
