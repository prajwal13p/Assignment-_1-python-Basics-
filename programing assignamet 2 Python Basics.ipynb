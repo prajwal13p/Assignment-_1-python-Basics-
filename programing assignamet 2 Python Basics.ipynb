{
 "cells": [
  {
   "attachments": {},
   "cell_type": "markdown",
   "metadata": {},
   "source": [
    "# 1. Write a Python program to convert kilometers to miles?"
   ]
  },
  {
   "cell_type": "code",
   "execution_count": 5,
   "metadata": {},
   "outputs": [
    {
     "name": "stdout",
     "output_type": "stream",
     "text": [
      "\n",
      "2.0 Km = 1.24 miles\n",
      "\n"
     ]
    }
   ],
   "source": [
    "\n",
    "def Km_to_miles(kilometers):\n",
    "    \"\"\"\n",
    "    takes input as kilometers and returns in miles\n",
    "    \"\"\"\n",
    "    return round(kilometers/1.609344,2)\n",
    "\n",
    "kilometers = float(input(\"Kilometers\"))\n",
    "print(f\"\"\"\n",
    "{kilometers} Km = {Km_to_miles(kilometers)} miles\n",
    "\"\"\")"
   ]
  },
  {
   "attachments": {},
   "cell_type": "markdown",
   "metadata": {},
   "source": [
    "\n",
    "# 2. Write a Python program to convert Celsius to Fahrenheit?"
   ]
  },
  {
   "cell_type": "code",
   "execution_count": 12,
   "metadata": {},
   "outputs": [
    {
     "name": "stdout",
     "output_type": "stream",
     "text": [
      "\n",
      "0.0 Celsius = 32.0 Fahrenheit\n",
      "\n"
     ]
    }
   ],
   "source": [
    "def C_to_F(Celsius):\n",
    "    \"\"\"\n",
    "    takes input as Celsius and returns in Fahrenheit\n",
    "    \"\"\"\n",
    "    return round((Celsius*9/5) + 32,2)\n",
    "\n",
    "Celsius = float(input(\"Celsius\"))\n",
    "\n",
    "print(f\"\"\"\n",
    "{Celsius} Celsius = {C_to_F(Celsius)} Fahrenheit\n",
    "\"\"\")"
   ]
  },
  {
   "attachments": {},
   "cell_type": "markdown",
   "metadata": {},
   "source": [
    "\n",
    "# 3. Write a Python program to display calendar?"
   ]
  },
  {
   "cell_type": "code",
   "execution_count": 13,
   "metadata": {},
   "outputs": [
    {
     "name": "stdout",
     "output_type": "stream",
     "text": [
      "   September 1999\n",
      "Mo Tu We Th Fr Sa Su\n",
      "       1  2  3  4  5\n",
      " 6  7  8  9 10 11 12\n",
      "13 14 15 16 17 18 19\n",
      "20 21 22 23 24 25 26\n",
      "27 28 29 30\n",
      "\n"
     ]
    }
   ],
   "source": [
    "import calendar\n",
    "\n",
    "year = int(input(\"Enter year: \"))\n",
    "month = int(input(\"Enter month: \"))\n",
    "\n",
    "print(calendar.month(year, month))"
   ]
  },
  {
   "attachments": {},
   "cell_type": "markdown",
   "metadata": {},
   "source": [
    "\n",
    "# 4. Write a Python program to solve quadratic equation?"
   ]
  },
  {
   "cell_type": "code",
   "execution_count": 24,
   "metadata": {},
   "outputs": [
    {
     "name": "stdout",
     "output_type": "stream",
     "text": [
      "Two real roots: 2.0 1.0\n"
     ]
    }
   ],
   "source": [
    "import math\n",
    "\n",
    "\n",
    "def solve_quadratic(a, b, c):\n",
    "    \"\"\"\n",
    "    a,b,c are coefficients of the quadratic equation ax^2 + bx + c = 0\n",
    "    \"\"\"\n",
    "   \n",
    "    disc = b**2 - 4*a*c\n",
    "\n",
    "    if disc < 0:\n",
    "        \n",
    "        print(\"No real roots\")\n",
    "    elif disc == 0:\n",
    "       \n",
    "        x = -b / (2*a)\n",
    "        print(\"One real root:\", x)\n",
    "    else:\n",
    "        \n",
    "        x1 = (-b + math.sqrt(disc)) / (2*a)\n",
    "        x2 = (-b - math.sqrt(disc)) / (2*a)\n",
    "        print(\"Two real roots:\", x1, x2)\n",
    "\n",
    "\n",
    "solve_quadratic(1,-3,2)"
   ]
  },
  {
   "attachments": {},
   "cell_type": "markdown",
   "metadata": {},
   "source": [
    "\n",
    "# 5. Write a Python program to swap two variables without temp variable?"
   ]
  },
  {
   "cell_type": "code",
   "execution_count": 25,
   "metadata": {},
   "outputs": [
    {
     "name": "stdout",
     "output_type": "stream",
     "text": [
      "Before swap: x = 3 and y = 6\n",
      "After swap: x = 6 and y = 3\n"
     ]
    }
   ],
   "source": [
    "def swap_variables(a, b):\n",
    "    a, b = b, a\n",
    "    return (a, b)\n",
    "\n",
    "\n",
    "x = 3\n",
    "y = 6\n",
    "print(\"Before swap: x =\", x, \"and y =\", y)\n",
    "x, y = swap_variables(x, y)\n",
    "print(\"After swap: x =\", x, \"and y =\", y)"
   ]
  },
  {
   "cell_type": "code",
   "execution_count": null,
   "metadata": {},
   "outputs": [],
   "source": []
  }
 ],
 "metadata": {
  "kernelspec": {
   "display_name": "Python 3",
   "language": "python",
   "name": "python3"
  },
  "language_info": {
   "codemirror_mode": {
    "name": "ipython",
    "version": 3
   },
   "file_extension": ".py",
   "mimetype": "text/x-python",
   "name": "python",
   "nbconvert_exporter": "python",
   "pygments_lexer": "ipython3",
   "version": "3.9.12"
  },
  "orig_nbformat": 4,
  "vscode": {
   "interpreter": {
    "hash": "41720efa99c50ecab60ad0cd935fc5514610d7d54b05ae36c29aa89ce0a32759"
   }
  }
 },
 "nbformat": 4,
 "nbformat_minor": 2
}
