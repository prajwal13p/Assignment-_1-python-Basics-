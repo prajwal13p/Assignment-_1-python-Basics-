{
 "cells": [
  {
   "cell_type": "markdown",
   "metadata": {},
   "source": [
    "# 1. Write a Python Program to find sum of array?\n"
   ]
  },
  {
   "cell_type": "code",
   "execution_count": 58,
   "metadata": {},
   "outputs": [
    {
     "name": "stdout",
     "output_type": "stream",
     "text": [
      "The sum of the array [2, 3, 5, 6, 4, 3, 5] is: 28\n"
     ]
    }
   ],
   "source": [
    "def sum_array(array):\n",
    "    sumation  = 0 \n",
    "    for element in array:\n",
    "        sumation += element\n",
    "    return sumation\n",
    "\n",
    "given_array = [2,3,5,6,4,3,5]\n",
    "sum_of_array = sum_array(given_array)\n",
    "\n",
    "\n",
    "print(f\"The sum of the array {given_array} is: {sum_of_array}\")"
   ]
  },
  {
   "cell_type": "markdown",
   "metadata": {},
   "source": [
    "# 2. Write a Python Program to find largest element in an array?\n"
   ]
  },
  {
   "cell_type": "code",
   "execution_count": 59,
   "metadata": {},
   "outputs": [
    {
     "name": "stdout",
     "output_type": "stream",
     "text": [
      "the largest number in array [2, 4, 6, 7, 8, 5, 3, 10, 4, 6, 3] is 10\n"
     ]
    }
   ],
   "source": [
    "def largest_number_in_array(array):\n",
    "    largest_num = 0\n",
    "    for element in array:\n",
    "        if element > largest_num:\n",
    "            largest_num = element\n",
    "    return largest_num\n",
    "given_array = [2,4,6,7,8,5,3,10,4,6,3]\n",
    "\n",
    "largest_number = largest_number_in_array(given_array)\n",
    "print(f'the largest number in array {given_array} is {largest_number}')"
   ]
  },
  {
   "cell_type": "markdown",
   "metadata": {},
   "source": [
    "# 3. Write a Python Program for array rotation?\n"
   ]
  },
  {
   "cell_type": "code",
   "execution_count": 60,
   "metadata": {},
   "outputs": [
    {
     "name": "stdout",
     "output_type": "stream",
     "text": [
      "The array [1, 2, 3, 4, 5] rotated to the left by 13 positions is: [4, 5, 1, 2, 3]\n"
     ]
    }
   ],
   "source": [
    "def rotate_array(arr, positions):\n",
    "    my_array = [1, 2, 3, 4, 5]\n",
    "    rotate_positions = 13\n",
    "\n",
    "    for i in range(rotate_positions):\n",
    "        first_element = my_array[0]\n",
    "        my_array = my_array[1:]\n",
    "        my_array.append(first_element)\n",
    "    \n",
    "\n",
    "    return my_array\n",
    "\n",
    "\n",
    "my_array = [1, 2, 3, 4, 5]\n",
    "rotate_positions = 13\n",
    "result = rotate_array(my_array, rotate_positions)\n",
    "\n",
    "print(f\"The array {my_array} rotated to the left by {rotate_positions} positions is: {result}\")\n"
   ]
  },
  {
   "cell_type": "markdown",
   "metadata": {},
   "source": [
    "# 4. Write a Python Program to Split the array and add the first part to the end?\n"
   ]
  },
  {
   "cell_type": "code",
   "execution_count": 61,
   "metadata": {},
   "outputs": [
    {
     "data": {
      "text/plain": [
       "[6, 3, 5, 9, 8, 4, 3, 4]"
      ]
     },
     "execution_count": 61,
     "metadata": {},
     "output_type": "execute_result"
    }
   ],
   "source": [
    "def split_array(arr , position):\n",
    "    split_array = array[position:] + array[:position]\n",
    "    return split_array\n",
    "\n",
    "array = [4,3,4,6,3,5,9,8]\n",
    "split_array(array,3)"
   ]
  },
  {
   "cell_type": "markdown",
   "metadata": {},
   "source": [
    "# 5. Write a Python Program to check if given array is Monotonic?"
   ]
  },
  {
   "cell_type": "code",
   "execution_count": 62,
   "metadata": {},
   "outputs": [
    {
     "name": "stdout",
     "output_type": "stream",
     "text": [
      "The array is not monotonic.\n"
     ]
    }
   ],
   "source": [
    "def is_monotonic(array):\n",
    "    increasing = decreasing = True\n",
    "\n",
    "    for i in range(1, len(array)):\n",
    "        if array[i] < array[i - 1]:\n",
    "            increasing = False\n",
    "            break\n",
    "\n",
    "    for i in range(1, len(array)):\n",
    "        if array[i] > array[i - 1]:\n",
    "            decreasing = False\n",
    "            break\n",
    "\n",
    "    return increasing or decreasing\n",
    "\n",
    "input_array = [1, 2, 3, 1,3]\n",
    "result = is_monotonic(input_array)\n",
    "\n",
    "if result:\n",
    "    print(\"The array is monotonic.\")\n",
    "else:\n",
    "    print(\"The array is not monotonic.\")\n"
   ]
  },
  {
   "cell_type": "code",
   "execution_count": null,
   "metadata": {},
   "outputs": [],
   "source": []
  }
 ],
 "metadata": {
  "kernelspec": {
   "display_name": "Python 3.8.10 64-bit",
   "language": "python",
   "name": "python3"
  },
  "language_info": {
   "codemirror_mode": {
    "name": "ipython",
    "version": 3
   },
   "file_extension": ".py",
   "mimetype": "text/x-python",
   "name": "python",
   "nbconvert_exporter": "python",
   "pygments_lexer": "ipython3",
   "version": "3.8.10"
  },
  "orig_nbformat": 4,
  "vscode": {
   "interpreter": {
    "hash": "e7370f93d1d0cde622a1f8e1c04877d8463912d04d973331ad4851f04de6915a"
   }
  }
 },
 "nbformat": 4,
 "nbformat_minor": 2
}
