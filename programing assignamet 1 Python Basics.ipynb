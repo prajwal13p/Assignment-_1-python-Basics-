{
 "cells": [
  {
   "attachments": {},
   "cell_type": "markdown",
   "metadata": {},
   "source": [
    "# 1. Write a Python program to print &quot;Hello Python&quot;?\n"
   ]
  },
  {
   "cell_type": "code",
   "execution_count": 2,
   "metadata": {},
   "outputs": [
    {
     "name": "stdout",
     "output_type": "stream",
     "text": [
      "Hello Python\n"
     ]
    }
   ],
   "source": [
    "print(\"Hello Python\")"
   ]
  },
  {
   "attachments": {},
   "cell_type": "markdown",
   "metadata": {},
   "source": [
    "# 2. Write a Python program to do arithmetical operations addition and division.?"
   ]
  },
  {
   "cell_type": "code",
   "execution_count": 9,
   "metadata": {},
   "outputs": [
    {
     "name": "stdout",
     "output_type": "stream",
     "text": [
      "addition of 3 and 6 is 9\n",
      "dividing 3 by 6 gives 0.5\n"
     ]
    }
   ],
   "source": [
    "# addition \n",
    "def addition(a,b):\n",
    "    add = a+b \n",
    "    return(f\"addition of {a} and {b} is {add}\")\n",
    "\n",
    "# division\n",
    "def division(a,b):\n",
    "    division = a/b\n",
    "    return(f\"dividing {a} by {b} gives {division}\")\n",
    "\n",
    "print(addition(3,6))\n",
    "print(division(3,6))\n"
   ]
  },
  {
   "attachments": {},
   "cell_type": "markdown",
   "metadata": {},
   "source": [
    "\n",
    "# 3. Write a Python program to find the area of a triangle?"
   ]
  },
  {
   "cell_type": "code",
   "execution_count": 12,
   "metadata": {},
   "outputs": [
    {
     "data": {
      "text/plain": [
       "'area of triangle of base 2 and height 6 is : 6.0'"
      ]
     },
     "execution_count": 12,
     "metadata": {},
     "output_type": "execute_result"
    }
   ],
   "source": [
    "def area_of_triangle(base:float,height:float):\n",
    "    \"\"\"\n",
    "    base = base of triangle\n",
    "    height = height of triangle\n",
    "    \"\"\"\n",
    "    area = 0.5*base*height\n",
    "    return(f\"area of triangle of base {base} and height {height} is : {area}\")\n",
    "\n",
    "area_of_triangle(base=2,height=6)\n",
    "\n"
   ]
  },
  {
   "attachments": {},
   "cell_type": "markdown",
   "metadata": {},
   "source": [
    "\n",
    "# 4. Write a Python program to swap two variables?"
   ]
  },
  {
   "cell_type": "code",
   "execution_count": 14,
   "metadata": {},
   "outputs": [
    {
     "name": "stdout",
     "output_type": "stream",
     "text": [
      "Before swap: x = 3 and y = 6\n",
      "After swap: x = 6 and y = 3\n"
     ]
    }
   ],
   "source": [
    "def swap_variables(a, b):\n",
    "    a, b = b, a\n",
    "    return (a, b)\n",
    "\n",
    "# Test\n",
    "x = 3\n",
    "y = 6\n",
    "print(\"Before swap: x =\", x, \"and y =\", y)\n",
    "x, y = swap_variables(x, y)\n",
    "print(\"After swap: x =\", x, \"and y =\", y)"
   ]
  },
  {
   "attachments": {},
   "cell_type": "markdown",
   "metadata": {},
   "source": [
    "\n",
    "# 5. Write a Python program to generate a random number?"
   ]
  },
  {
   "cell_type": "code",
   "execution_count": 15,
   "metadata": {},
   "outputs": [
    {
     "name": "stdout",
     "output_type": "stream",
     "text": [
      "16\n"
     ]
    }
   ],
   "source": [
    "import numpy as np\n",
    "print(np.random.randint(0,100))"
   ]
  }
 ],
 "metadata": {
  "kernelspec": {
   "display_name": "Python 3",
   "language": "python",
   "name": "python3"
  },
  "language_info": {
   "codemirror_mode": {
    "name": "ipython",
    "version": 3
   },
   "file_extension": ".py",
   "mimetype": "text/x-python",
   "name": "python",
   "nbconvert_exporter": "python",
   "pygments_lexer": "ipython3",
   "version": "3.9.12"
  },
  "orig_nbformat": 4,
  "vscode": {
   "interpreter": {
    "hash": "41720efa99c50ecab60ad0cd935fc5514610d7d54b05ae36c29aa89ce0a32759"
   }
  }
 },
 "nbformat": 4,
 "nbformat_minor": 2
}
